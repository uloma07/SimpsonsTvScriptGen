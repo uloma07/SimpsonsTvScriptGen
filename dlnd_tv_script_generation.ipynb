{
 "cells": [
  {
   "cell_type": "markdown",
   "metadata": {
    "deletable": true,
    "editable": true
   },
   "source": [
    "# TV Script Generation\n",
    "In this project, you'll generate your own [Simpsons](https://en.wikipedia.org/wiki/The_Simpsons) TV scripts using RNNs.  You'll be using part of the [Simpsons dataset](https://www.kaggle.com/wcukierski/the-simpsons-by-the-data) of scripts from 27 seasons.  The Neural Network you'll build will generate a new TV script for a scene at [Moe's Tavern](https://simpsonswiki.com/wiki/Moe's_Tavern).\n",
    "## Get the Data\n",
    "The data is already provided for you.  You'll be using a subset of the original dataset.  It consists of only the scenes in Moe's Tavern.  This doesn't include other versions of the tavern, like \"Moe's Cavern\", \"Flaming Moe's\", \"Uncle Moe's Family Feed-Bag\", etc.."
   ]
  },
  {
   "cell_type": "code",
   "execution_count": 1,
   "metadata": {
    "collapsed": false,
    "deletable": true,
    "editable": true
   },
   "outputs": [],
   "source": [
    "\"\"\"\n",
    "DON'T MODIFY ANYTHING IN THIS CELL\n",
    "\"\"\"\n",
    "import helper\n",
    "\n",
    "data_dir = './data/simpsons/moes_tavern_lines.txt'\n",
    "text = helper.load_data(data_dir)\n",
    "# Ignore notice, since we don't use it for analysing the data\n",
    "text = text[81:]"
   ]
  },
  {
   "cell_type": "markdown",
   "metadata": {
    "deletable": true,
    "editable": true
   },
   "source": [
    "## Explore the Data\n",
    "Play around with `view_sentence_range` to view different parts of the data."
   ]
  },
  {
   "cell_type": "code",
   "execution_count": 2,
   "metadata": {
    "collapsed": false,
    "deletable": true,
    "editable": true
   },
   "outputs": [
    {
     "name": "stdout",
     "output_type": "stream",
     "text": [
      "Dataset Stats\n",
      "Roughly the number of unique words: 11492\n",
      "Number of scenes: 262\n",
      "Average number of sentences in each scene: 15.248091603053435\n",
      "Number of lines: 4257\n",
      "Average number of words in each line: 11.50434578341555\n",
      "\n",
      "The sentences 0 to 10:\n",
      "Moe_Szyslak: (INTO PHONE) Moe's Tavern. Where the elite meet to drink.\n",
      "Bart_Simpson: Eh, yeah, hello, is Mike there? Last name, Rotch.\n",
      "Moe_Szyslak: (INTO PHONE) Hold on, I'll check. (TO BARFLIES) Mike Rotch. Mike Rotch. Hey, has anybody seen Mike Rotch, lately?\n",
      "Moe_Szyslak: (INTO PHONE) Listen you little puke. One of these days I'm gonna catch you, and I'm gonna carve my name on your back with an ice pick.\n",
      "Moe_Szyslak: What's the matter Homer? You're not your normal effervescent self.\n",
      "Homer_Simpson: I got my problems, Moe. Give me another one.\n",
      "Moe_Szyslak: Homer, hey, you should not drink to forget your problems.\n",
      "Barney_Gumble: Yeah, you should only drink to enhance your social skills.\n",
      "\n",
      "\n"
     ]
    }
   ],
   "source": [
    "view_sentence_range = (0, 10)\n",
    "\n",
    "\"\"\"\n",
    "DON'T MODIFY ANYTHING IN THIS CELL\n",
    "\"\"\"\n",
    "import numpy as np\n",
    "\n",
    "print('Dataset Stats')\n",
    "print('Roughly the number of unique words: {}'.format(len({word: None for word in text.split()})))\n",
    "scenes = text.split('\\n\\n')\n",
    "print('Number of scenes: {}'.format(len(scenes)))\n",
    "sentence_count_scene = [scene.count('\\n') for scene in scenes]\n",
    "print('Average number of sentences in each scene: {}'.format(np.average(sentence_count_scene)))\n",
    "\n",
    "sentences = [sentence for scene in scenes for sentence in scene.split('\\n')]\n",
    "print('Number of lines: {}'.format(len(sentences)))\n",
    "word_count_sentence = [len(sentence.split()) for sentence in sentences]\n",
    "print('Average number of words in each line: {}'.format(np.average(word_count_sentence)))\n",
    "\n",
    "print()\n",
    "print('The sentences {} to {}:'.format(*view_sentence_range))\n",
    "print('\\n'.join(text.split('\\n')[view_sentence_range[0]:view_sentence_range[1]]))"
   ]
  },
  {
   "cell_type": "markdown",
   "metadata": {
    "deletable": true,
    "editable": true
   },
   "source": [
    "## Implement Preprocessing Functions\n",
    "The first thing to do to any dataset is preprocessing.  Implement the following preprocessing functions below:\n",
    "- Lookup Table\n",
    "- Tokenize Punctuation\n",
    "\n",
    "### Lookup Table\n",
    "To create a word embedding, you first need to transform the words to ids.  In this function, create two dictionaries:\n",
    "- Dictionary to go from the words to an id, we'll call `vocab_to_int`\n",
    "- Dictionary to go from the id to word, we'll call `int_to_vocab`\n",
    "\n",
    "Return these dictionaries in the following tuple `(vocab_to_int, int_to_vocab)`"
   ]
  },
  {
   "cell_type": "code",
   "execution_count": 3,
   "metadata": {
    "collapsed": false,
    "deletable": true,
    "editable": true
   },
   "outputs": [
    {
     "name": "stdout",
     "output_type": "stream",
     "text": [
      "Tests Passed\n"
     ]
    }
   ],
   "source": [
    "import numpy as np\n",
    "import problem_unittests as tests\n",
    "from collections import Counter\n",
    "\n",
    "'''def create_lookup_tables(text):\n",
    "    \"\"\"\n",
    "    Create lookup tables for vocabulary\n",
    "    :param text: The text of tv scripts split into words\n",
    "    :return: A tuple of dicts (vocab_to_int, int_to_vocab)\n",
    "    \"\"\"\n",
    "    # TODO: Implement Function\n",
    "    words= list(set(text))\n",
    "    vocab_to_int = {word : count+1 for count,word in enumerate(words)}\n",
    "    int_to_vocab = {vocab_to_int[key] : key for key in vocab_to_int}\n",
    "    return (vocab_to_int, int_to_vocab)'''\n",
    "\n",
    "def create_lookup_tables(words):\n",
    "    \"\"\"\n",
    "    Create lookup tables for vocabulary\n",
    "    :param words: Input list of words\n",
    "    :return: A tuple of dicts.  The first dict....\n",
    "    \"\"\"\n",
    "    word_counts = Counter(words)\n",
    "    sorted_vocab = sorted(word_counts, key=word_counts.get, reverse=True)\n",
    "    int_to_vocab = {ii: word for ii, word in enumerate(sorted_vocab)}\n",
    "    vocab_to_int = {word: ii for ii, word in int_to_vocab.items()}\n",
    "\n",
    "    return vocab_to_int, int_to_vocab\n",
    "\n",
    "\n",
    "\"\"\"\n",
    "DON'T MODIFY ANYTHING IN THIS CELL THAT IS BELOW THIS LINE\n",
    "\"\"\"\n",
    "tests.test_create_lookup_tables(create_lookup_tables)"
   ]
  },
  {
   "cell_type": "markdown",
   "metadata": {
    "deletable": true,
    "editable": true
   },
   "source": [
    "### Tokenize Punctuation\n",
    "We'll be splitting the script into a word array using spaces as delimiters.  However, punctuations like periods and exclamation marks make it hard for the neural network to distinguish between the word \"bye\" and \"bye!\".\n",
    "\n",
    "Implement the function `token_lookup` to return a dict that will be used to tokenize symbols like \"!\" into \"||Exclamation_Mark||\".  Create a dictionary for the following symbols where the symbol is the key and value is the token:\n",
    "- Period ( . )\n",
    "- Comma ( , )\n",
    "- Quotation Mark ( \" )\n",
    "- Semicolon ( ; )\n",
    "- Exclamation mark ( ! )\n",
    "- Question mark ( ? )\n",
    "- Left Parentheses ( ( )\n",
    "- Right Parentheses ( ) )\n",
    "- Dash ( -- )\n",
    "- Return ( \\n )\n",
    "\n",
    "This dictionary will be used to token the symbols and add the delimiter (space) around it.  This separates the symbols as it's own word, making it easier for the neural network to predict on the next word. Make sure you don't use a token that could be confused as a word. Instead of using the token \"dash\", try using something like \"||dash||\"."
   ]
  },
  {
   "cell_type": "code",
   "execution_count": 4,
   "metadata": {
    "collapsed": false,
    "deletable": true,
    "editable": true
   },
   "outputs": [
    {
     "name": "stdout",
     "output_type": "stream",
     "text": [
      "Tests Passed\n"
     ]
    }
   ],
   "source": [
    "def token_lookup():\n",
    "    \"\"\"\n",
    "    Generate a dict to turn punctuation into a token.\n",
    "    :return: Tokenize dictionary where the key is the punctuation and the value is the token\n",
    "    \"\"\"\n",
    "     # TODO: Implement Function\n",
    "    lookup = {\n",
    "        \".\" : \"||period||\",\n",
    "        \",\" : \"||comma||\",\n",
    "        \"\\\"\" : \"||quotationmark||\",\n",
    "        \";\" : \"||semicolon||\",\n",
    "        \"!\" : \"||exclamationmark||\",\n",
    "        \"?\" : \"||questionmark||\",\n",
    "        \"(\" : \"||leftparentheses||\",\n",
    "        \")\" : \"||rightparentheses||\",\n",
    "        \"--\" : \"||dash||\",\n",
    "        \"\\n\" : \"||newline||\"\n",
    "    }\n",
    "   \n",
    "    return lookup\n",
    "\n",
    "\"\"\"\n",
    "DON'T MODIFY ANYTHING IN THIS CELL THAT IS BELOW THIS LINE\n",
    "\"\"\"\n",
    "tests.test_tokenize(token_lookup)"
   ]
  },
  {
   "cell_type": "markdown",
   "metadata": {
    "deletable": true,
    "editable": true
   },
   "source": [
    "## Preprocess all the data and save it\n",
    "Running the code cell below will preprocess all the data and save it to file."
   ]
  },
  {
   "cell_type": "code",
   "execution_count": 5,
   "metadata": {
    "collapsed": false,
    "deletable": true,
    "editable": true
   },
   "outputs": [],
   "source": [
    "\"\"\"\n",
    "DON'T MODIFY ANYTHING IN THIS CELL\n",
    "\"\"\"\n",
    "# Preprocess Training, Validation, and Testing Data\n",
    "helper.preprocess_and_save_data(data_dir, token_lookup, create_lookup_tables)"
   ]
  },
  {
   "cell_type": "markdown",
   "metadata": {
    "deletable": true,
    "editable": true
   },
   "source": [
    "# Check Point\n",
    "This is your first checkpoint. If you ever decide to come back to this notebook or have to restart the notebook, you can start from here. The preprocessed data has been saved to disk."
   ]
  },
  {
   "cell_type": "code",
   "execution_count": 6,
   "metadata": {
    "collapsed": false,
    "deletable": true,
    "editable": true
   },
   "outputs": [],
   "source": [
    "\"\"\"\n",
    "DON'T MODIFY ANYTHING IN THIS CELL\n",
    "\"\"\"\n",
    "import helper\n",
    "import numpy as np\n",
    "import problem_unittests as tests\n",
    "\n",
    "int_text, vocab_to_int, int_to_vocab, token_dict = helper.load_preprocess()"
   ]
  },
  {
   "cell_type": "markdown",
   "metadata": {
    "deletable": true,
    "editable": true
   },
   "source": [
    "## Build the Neural Network\n",
    "You'll build the components necessary to build a RNN by implementing the following functions below:\n",
    "- get_inputs\n",
    "- get_init_cell\n",
    "- get_embed\n",
    "- build_rnn\n",
    "- build_nn\n",
    "- get_batches\n",
    "\n",
    "### Check the Version of TensorFlow and Access to GPU"
   ]
  },
  {
   "cell_type": "code",
   "execution_count": 7,
   "metadata": {
    "collapsed": false,
    "deletable": true,
    "editable": true
   },
   "outputs": [
    {
     "name": "stdout",
     "output_type": "stream",
     "text": [
      "TensorFlow Version: 1.0.0\n",
      "Default GPU Device: /gpu:0\n"
     ]
    }
   ],
   "source": [
    "\"\"\"\n",
    "DON'T MODIFY ANYTHING IN THIS CELL\n",
    "\"\"\"\n",
    "from distutils.version import LooseVersion\n",
    "import warnings\n",
    "import tensorflow as tf\n",
    "\n",
    "# Check TensorFlow Version\n",
    "assert LooseVersion(tf.__version__) >= LooseVersion('1.0'), 'Please use TensorFlow version 1.0 or newer'\n",
    "print('TensorFlow Version: {}'.format(tf.__version__))\n",
    "\n",
    "# Check for a GPU\n",
    "if not tf.test.gpu_device_name():\n",
    "    warnings.warn('No GPU found. Please use a GPU to train your neural network.')\n",
    "else:\n",
    "    print('Default GPU Device: {}'.format(tf.test.gpu_device_name()))"
   ]
  },
  {
   "cell_type": "markdown",
   "metadata": {
    "deletable": true,
    "editable": true
   },
   "source": [
    "### Input\n",
    "Implement the `get_inputs()` function to create TF Placeholders for the Neural Network.  It should create the following placeholders:\n",
    "- Input text placeholder named \"input\" using the [TF Placeholder](https://www.tensorflow.org/api_docs/python/tf/placeholder) `name` parameter.\n",
    "- Targets placeholder\n",
    "- Learning Rate placeholder\n",
    "\n",
    "Return the placeholders in the following tuple `(Input, Targets, LearningRate)`"
   ]
  },
  {
   "cell_type": "code",
   "execution_count": 8,
   "metadata": {
    "collapsed": false,
    "deletable": true,
    "editable": true
   },
   "outputs": [
    {
     "name": "stdout",
     "output_type": "stream",
     "text": [
      "Tests Passed\n"
     ]
    }
   ],
   "source": [
    "def get_inputs():\n",
    "    \"\"\"\n",
    "    Create TF Placeholders for input, targets, and learning rate.\n",
    "    :return: Tuple (input, targets, learning rate)\n",
    "    \"\"\"\n",
    "  \n",
    "    inputs = tf.placeholder(tf.int32, [None,None], name=\"input\")\n",
    "    targets = tf.placeholder(tf.int32, [None,None], name=\"targets\")\n",
    "    learning_rate = tf.placeholder(tf.float32, name=\"learning_rate\")\n",
    "    return (inputs, targets, learning_rate)\n",
    "\n",
    "\n",
    "\"\"\"\n",
    "DON'T MODIFY ANYTHING IN THIS CELL THAT IS BELOW THIS LINE\n",
    "\"\"\"\n",
    "tests.test_get_inputs(get_inputs)"
   ]
  },
  {
   "cell_type": "markdown",
   "metadata": {
    "deletable": true,
    "editable": true
   },
   "source": [
    "### Build RNN Cell and Initialize\n",
    "Stack one or more [`BasicLSTMCells`](https://www.tensorflow.org/api_docs/python/tf/contrib/rnn/BasicLSTMCell) in a [`MultiRNNCell`](https://www.tensorflow.org/api_docs/python/tf/contrib/rnn/MultiRNNCell).\n",
    "- The Rnn size should be set using `rnn_size`\n",
    "- Initalize Cell State using the MultiRNNCell's [`zero_state()`](https://www.tensorflow.org/api_docs/python/tf/contrib/rnn/MultiRNNCell#zero_state) function\n",
    "    - Apply the name \"initial_state\" to the initial state using [`tf.identity()`](https://www.tensorflow.org/api_docs/python/tf/identity)\n",
    "\n",
    "Return the cell and initial state in the following tuple `(Cell, InitialState)`"
   ]
  },
  {
   "cell_type": "code",
   "execution_count": 9,
   "metadata": {
    "collapsed": false,
    "deletable": true,
    "editable": true
   },
   "outputs": [
    {
     "name": "stdout",
     "output_type": "stream",
     "text": [
      "Tests Passed\n"
     ]
    }
   ],
   "source": [
    "def get_init_cell(batch_size, rnn_size):\n",
    "    \"\"\"\n",
    "    Create an RNN Cell and initialize it.\n",
    "    :param batch_size: Size of batches\n",
    "    :param rnn_size: Size of RNNs\n",
    "    :return: Tuple (cell, initialize state)   \n",
    "    \"\"\"    \n",
    "    # TODO: Implement Function\n",
    "    lstm = tf.contrib.rnn.BasicLSTMCell(rnn_size)\n",
    "    #drop = tf.contrib.rnn.DropoutWrapper(lstm, output_keep_prob = 0.5)\n",
    "    cell = tf.contrib.rnn.MultiRNNCell([lstm])\n",
    "    initial_state_ = cell.zero_state(batch_size, tf.float32)\n",
    "    initial_state= tf.identity(initial_state_, name=\"initial_state\")\n",
    "    return (cell, initial_state)\n",
    "\n",
    "\n",
    "\n",
    "\"\"\"\n",
    "DON'T MODIFY ANYTHING IN THIS CELL THAT IS BELOW THIS LINE\n",
    "\"\"\"\n",
    "tests.test_get_init_cell(get_init_cell)"
   ]
  },
  {
   "cell_type": "markdown",
   "metadata": {
    "deletable": true,
    "editable": true
   },
   "source": [
    "### Word Embedding\n",
    "Apply embedding to `input_data` using TensorFlow.  Return the embedded sequence."
   ]
  },
  {
   "cell_type": "code",
   "execution_count": 10,
   "metadata": {
    "collapsed": false,
    "deletable": true,
    "editable": true
   },
   "outputs": [
    {
     "name": "stdout",
     "output_type": "stream",
     "text": [
      "Tests Passed\n"
     ]
    }
   ],
   "source": [
    "def get_embed(input_data, vocab_size, embed_dim):\n",
    "    \"\"\"\n",
    "    Create embedding for <input_data>.\n",
    "    :param input_data: TF placeholder for text input.\n",
    "    :param vocab_size: Number of words in vocabulary.\n",
    "    :param embed_dim: Number of embedding dimensions\n",
    "    :return: Embedded input.\n",
    "    \"\"\"\n",
    "    # TODO: Implement Function\n",
    "    #embedding = tf.Variable(tf.random_normal((vocab_size, embed_dim),-1,1))\n",
    "    embedding = tf.Variable(tf.random_uniform([vocab_size, embed_dim]))\n",
    "    embed = tf.nn.embedding_lookup(embedding,input_data)\n",
    "    return embed\n",
    "\n",
    "\n",
    "\"\"\"\n",
    "DON'T MODIFY ANYTHING IN THIS CELL THAT IS BELOW THIS LINE\n",
    "\"\"\"\n",
    "tests.test_get_embed(get_embed)"
   ]
  },
  {
   "cell_type": "markdown",
   "metadata": {
    "deletable": true,
    "editable": true
   },
   "source": [
    "### Build RNN\n",
    "You created a RNN Cell in the `get_init_cell()` function.  Time to use the cell to create a RNN.\n",
    "- Build the RNN using the [`tf.nn.dynamic_rnn()`](https://www.tensorflow.org/api_docs/python/tf/nn/dynamic_rnn)\n",
    " - Apply the name \"final_state\" to the final state using [`tf.identity()`](https://www.tensorflow.org/api_docs/python/tf/identity)\n",
    "\n",
    "Return the outputs and final_state state in the following tuple `(Outputs, FinalState)` "
   ]
  },
  {
   "cell_type": "code",
   "execution_count": 11,
   "metadata": {
    "collapsed": false,
    "deletable": true,
    "editable": true
   },
   "outputs": [
    {
     "name": "stdout",
     "output_type": "stream",
     "text": [
      "Tests Passed\n"
     ]
    }
   ],
   "source": [
    "def build_rnn(cell, inputs):\n",
    "    \"\"\"\n",
    "    Create a RNN using a RNN Cell\n",
    "    :param cell: RNN Cell\n",
    "    :param inputs: Input text data\n",
    "    :return: Tuple (Outputs, Final State)\n",
    "    \"\"\"\n",
    "    \n",
    "    outputs, finals = tf.nn.dynamic_rnn(cell, inputs, dtype= tf.float32 )\n",
    "    final_state = tf.identity(finals,name=\"final_state\")\n",
    "    # TODO: Implement Function\n",
    "    return outputs, final_state\n",
    "\n",
    "\n",
    "\"\"\"\n",
    "DON'T MODIFY ANYTHING IN THIS CELL THAT IS BELOW THIS LINE\n",
    "\"\"\"\n",
    "tests.test_build_rnn(build_rnn)"
   ]
  },
  {
   "cell_type": "markdown",
   "metadata": {
    "deletable": true,
    "editable": true
   },
   "source": [
    "### Build the Neural Network\n",
    "Apply the functions you implemented above to:\n",
    "- Apply embedding to `input_data` using your `get_embed(input_data, vocab_size, embed_dim)` function.\n",
    "- Build RNN using `cell` and your `build_rnn(cell, inputs)` function.\n",
    "- Apply a fully connected layer with a linear activation and `vocab_size` as the number of outputs.\n",
    "\n",
    "Return the logits and final state in the following tuple (Logits, FinalState) "
   ]
  },
  {
   "cell_type": "code",
   "execution_count": 12,
   "metadata": {
    "collapsed": false,
    "deletable": true,
    "editable": true
   },
   "outputs": [
    {
     "name": "stdout",
     "output_type": "stream",
     "text": [
      "Tests Passed\n"
     ]
    }
   ],
   "source": [
    "def build_nn(cell, rnn_size, input_data, vocab_size, embed_dim):\n",
    "    \"\"\"\n",
    "    Build part of the neural network\n",
    "    :param cell: RNN cell\n",
    "    :param rnn_size: Size of rnns\n",
    "    :param input_data: Input data\n",
    "    :param vocab_size: Vocabulary size\n",
    "    :param embed_dim: Number of embedding dimensions\n",
    "    :return: Tuple (Logits, FinalState)\n",
    "    \"\"\"\n",
    "    # TODO: Implement Function\n",
    "    #embed = get_embed(input_data,embed_dim,rnn_size)\n",
    "    embed = get_embed(input_data,vocab_size,embed_dim)\n",
    "    rnn_outputs, final_state = build_rnn(cell,embed)\n",
    "    weights_init = tf.truncated_normal_initializer(stddev=0.1)\n",
    "    bias_init = tf.zeros_initializer()\n",
    "    predictions = tf.contrib.layers.fully_connected(rnn_outputs,vocab_size, activation_fn=None)#, weights_initializer=weights_init, \n",
    "    #biases_initializer=bias_init)\n",
    "    \n",
    "    return (predictions, final_state)\n",
    "\n",
    "\n",
    "\"\"\"\n",
    "DON'T MODIFY ANYTHING IN THIS CELL THAT IS BELOW THIS LINE\n",
    "\"\"\"\n",
    "tests.test_build_nn(build_nn)"
   ]
  },
  {
   "cell_type": "markdown",
   "metadata": {
    "deletable": true,
    "editable": true
   },
   "source": [
    "### Batches\n",
    "Implement `get_batches` to create batches of input and targets using `int_text`.  The batches should be a Numpy array with the shape `(number of batches, 2, batch size, sequence length)`. Each batch contains two elements:\n",
    "- The first element is a single batch of **input** with the shape `[batch size, sequence length]`\n",
    "- The second element is a single batch of **targets** with the shape `[batch size, sequence length]`\n",
    "\n",
    "If you can't fill the last batch with enough data, drop the last batch.\n",
    "\n",
    "For exmple, `get_batches([1, 2, 3, 4, 5, 6, 7, 8, 9, 10, 11, 12, 13, 14, 15, 16, 17, 18, 19, 20], 3, 2)` would return a Numpy array of the following:\n",
    "```\n",
    "[\n",
    "  # First Batch\n",
    "  [\n",
    "    # Batch of Input\n",
    "    [[ 1  2], [ 7  8], [13 14]]\n",
    "    # Batch of targets\n",
    "    [[ 2  3], [ 8  9], [14 15]]\n",
    "  ]\n",
    "\n",
    "  # Second Batch\n",
    "  [\n",
    "    # Batch of Input\n",
    "    [[ 3  4], [ 9 10], [15 16]]\n",
    "    # Batch of targets\n",
    "    [[ 4  5], [10 11], [16 17]]\n",
    "  ]\n",
    "\n",
    "  # Third Batch\n",
    "  [\n",
    "    # Batch of Input\n",
    "    [[ 5  6], [11 12], [17 18]]\n",
    "    # Batch of targets\n",
    "    [[ 6  7], [12 13], [18  1]]\n",
    "  ]\n",
    "]\n",
    "```\n",
    "\n",
    "Notice that the last target value in the last batch is the first input value of the first batch. In this case, `1`. This is a common technique used when creating sequence batches, although it is rather unintuitive."
   ]
  },
  {
   "cell_type": "code",
   "execution_count": 13,
   "metadata": {
    "collapsed": false,
    "deletable": true,
    "editable": true
   },
   "outputs": [
    {
     "name": "stdout",
     "output_type": "stream",
     "text": [
      "Tests Passed\n"
     ]
    }
   ],
   "source": [
    "def get_batches(int_text, batch_size, seq_length):\n",
    "    \"\"\"\n",
    "    Return batches of input and target\n",
    "    :param int_text: Text with the words replaced by their ids\n",
    "    :param batch_size: The size of batch\n",
    "    :param seq_length: The length of sequence\n",
    "    :return: Batches as a Numpy array\n",
    "    \"\"\"\n",
    "    # TODO: Implement Function    \n",
    "        \n",
    "    n_batches = len(int_text)//(batch_size*seq_length)\n",
    "\n",
    "    x, y = np.array(int_text[:n_batches*batch_size*seq_length]),np.array(int_text[1:n_batches*batch_size*seq_length+1])\n",
    "    y[-1] = x[0]   \n",
    "    \n",
    "    #got help from forum for this\n",
    "    input_batches = np.split(x.reshape(batch_size, -1), n_batches, 1)\n",
    "    target_batches = np.split(y.reshape(batch_size, -1), n_batches, 1)\n",
    "\n",
    "    batches = np.array(list(zip(input_batches, target_batches)))\n",
    "\n",
    "    return batches\n",
    "\n",
    "#get_batches([1, 2, 3, 4, 5, 6, 7, 8, 9, 10, 11, 12, 13, 14, 15, 16, 17, 18, 19, 20], 3, 2)\n",
    "\n",
    "\"\"\"\n",
    "DON'T MODIFY ANYTHING IN THIS CELL THAT IS BELOW THIS LINE\n",
    "\"\"\"\n",
    "tests.test_get_batches(get_batches)\n",
    "\n",
    "\n"
   ]
  },
  {
   "cell_type": "markdown",
   "metadata": {
    "deletable": true,
    "editable": true
   },
   "source": [
    "## Neural Network Training\n",
    "### Hyperparameters\n",
    "Tune the following parameters:\n",
    "\n",
    "- Set `num_epochs` to the number of epochs.\n",
    "- Set `batch_size` to the batch size.\n",
    "- Set `rnn_size` to the size of the RNNs.\n",
    "- Set `embed_dim` to the size of the embedding.\n",
    "- Set `seq_length` to the length of sequence.\n",
    "- Set `learning_rate` to the learning rate.\n",
    "- Set `show_every_n_batches` to the number of batches the neural network should print progress."
   ]
  },
  {
   "cell_type": "code",
   "execution_count": 25,
   "metadata": {
    "collapsed": true,
    "deletable": true,
    "editable": true
   },
   "outputs": [],
   "source": [
    "# Number of Epochs\n",
    "num_epochs = 100\n",
    "# Batch Size\n",
    "batch_size = 64\n",
    "# RNN Size\n",
    "rnn_size = 512\n",
    "# Embedding Dimension Size\n",
    "embed_dim = 300\n",
    "# Sequence Length\n",
    "seq_length = 15\n",
    "# Learning Rate\n",
    "learning_rate = 0.001\n",
    "# Show stats for every n number of batches\n",
    "show_every_n_batches = 10\n",
    "\n",
    "\"\"\"\n",
    "DON'T MODIFY ANYTHING IN THIS CELL THAT IS BELOW THIS LINE\n",
    "\"\"\"\n",
    "save_dir = './save'"
   ]
  },
  {
   "cell_type": "markdown",
   "metadata": {
    "deletable": true,
    "editable": true
   },
   "source": [
    "### Build the Graph\n",
    "Build the graph using the neural network you implemented."
   ]
  },
  {
   "cell_type": "code",
   "execution_count": 26,
   "metadata": {
    "collapsed": false,
    "deletable": true,
    "editable": true
   },
   "outputs": [],
   "source": [
    "\"\"\"\n",
    "DON'T MODIFY ANYTHING IN THIS CELL\n",
    "\"\"\"\n",
    "from tensorflow.contrib import seq2seq\n",
    "\n",
    "train_graph = tf.Graph()\n",
    "with train_graph.as_default():\n",
    "    vocab_size = len(int_to_vocab)\n",
    "    input_text, targets, lr = get_inputs()\n",
    "    input_data_shape = tf.shape(input_text)\n",
    "    cell, initial_state = get_init_cell(input_data_shape[0], rnn_size)\n",
    "    logits, final_state = build_nn(cell, rnn_size, input_text, vocab_size, embed_dim)\n",
    "\n",
    "    # Probabilities for generating words\n",
    "    probs = tf.nn.softmax(logits, name='probs')\n",
    "\n",
    "    # Loss function\n",
    "    cost = seq2seq.sequence_loss(\n",
    "        logits,\n",
    "        targets,\n",
    "        tf.ones([input_data_shape[0], input_data_shape[1]]))\n",
    "\n",
    "    # Optimizer\n",
    "    optimizer = tf.train.AdamOptimizer(lr)\n",
    "\n",
    "    # Gradient Clipping\n",
    "    gradients = optimizer.compute_gradients(cost)\n",
    "    capped_gradients = [(tf.clip_by_value(grad, -1., 1.), var) for grad, var in gradients if grad is not None]\n",
    "    train_op = optimizer.apply_gradients(capped_gradients)"
   ]
  },
  {
   "cell_type": "markdown",
   "metadata": {
    "deletable": true,
    "editable": true
   },
   "source": [
    "## Train\n",
    "Train the neural network on the preprocessed data.  If you have a hard time getting a good loss, check the [forums](https://discussions.udacity.com/) to see if anyone is having the same problem."
   ]
  },
  {
   "cell_type": "code",
   "execution_count": null,
   "metadata": {
    "collapsed": false,
    "deletable": true,
    "editable": true
   },
   "outputs": [
    {
     "name": "stdout",
     "output_type": "stream",
     "text": [
      "Epoch   0 Batch    0/71   train_loss = 8.824\n",
      "Epoch   0 Batch   10/71   train_loss = 6.088\n",
      "Epoch   0 Batch   20/71   train_loss = 6.144\n",
      "Epoch   0 Batch   30/71   train_loss = 6.300\n",
      "Epoch   0 Batch   40/71   train_loss = 6.250\n",
      "Epoch   0 Batch   50/71   train_loss = 6.198\n",
      "Epoch   0 Batch   60/71   train_loss = 6.200\n",
      "Epoch   0 Batch   70/71   train_loss = 6.281\n",
      "Epoch   1 Batch    9/71   train_loss = 5.935\n",
      "Epoch   1 Batch   19/71   train_loss = 5.908\n",
      "Epoch   1 Batch   29/71   train_loss = 5.756\n",
      "Epoch   1 Batch   39/71   train_loss = 5.823\n",
      "Epoch   1 Batch   49/71   train_loss = 5.838\n",
      "Epoch   1 Batch   59/71   train_loss = 5.797\n",
      "Epoch   1 Batch   69/71   train_loss = 5.810\n",
      "Epoch   2 Batch    8/71   train_loss = 5.700\n",
      "Epoch   2 Batch   18/71   train_loss = 5.435\n",
      "Epoch   2 Batch   28/71   train_loss = 5.489\n",
      "Epoch   2 Batch   38/71   train_loss = 5.511\n",
      "Epoch   2 Batch   48/71   train_loss = 5.488\n",
      "Epoch   2 Batch   58/71   train_loss = 5.280\n",
      "Epoch   2 Batch   68/71   train_loss = 5.534\n",
      "Epoch   3 Batch    7/71   train_loss = 5.465\n",
      "Epoch   3 Batch   17/71   train_loss = 5.114\n",
      "Epoch   3 Batch   27/71   train_loss = 5.339\n",
      "Epoch   3 Batch   37/71   train_loss = 5.157\n",
      "Epoch   3 Batch   47/71   train_loss = 5.332\n",
      "Epoch   3 Batch   57/71   train_loss = 5.164\n",
      "Epoch   3 Batch   67/71   train_loss = 5.167\n",
      "Epoch   4 Batch    6/71   train_loss = 5.042\n",
      "Epoch   4 Batch   16/71   train_loss = 5.109\n",
      "Epoch   4 Batch   26/71   train_loss = 4.899\n",
      "Epoch   4 Batch   36/71   train_loss = 5.008\n",
      "Epoch   4 Batch   46/71   train_loss = 4.974\n",
      "Epoch   4 Batch   56/71   train_loss = 4.964\n",
      "Epoch   4 Batch   66/71   train_loss = 4.920\n",
      "Epoch   5 Batch    5/71   train_loss = 4.957\n",
      "Epoch   5 Batch   15/71   train_loss = 5.066\n",
      "Epoch   5 Batch   25/71   train_loss = 4.760\n",
      "Epoch   5 Batch   35/71   train_loss = 4.916\n",
      "Epoch   5 Batch   45/71   train_loss = 4.915\n",
      "Epoch   5 Batch   55/71   train_loss = 4.766\n",
      "Epoch   5 Batch   65/71   train_loss = 4.758\n",
      "Epoch   6 Batch    4/71   train_loss = 4.831\n",
      "Epoch   6 Batch   14/71   train_loss = 4.809\n",
      "Epoch   6 Batch   24/71   train_loss = 4.759\n",
      "Epoch   6 Batch   34/71   train_loss = 4.698\n",
      "Epoch   6 Batch   44/71   train_loss = 4.823\n",
      "Epoch   6 Batch   54/71   train_loss = 4.647\n",
      "Epoch   6 Batch   64/71   train_loss = 4.742\n",
      "Epoch   7 Batch    3/71   train_loss = 4.787\n",
      "Epoch   7 Batch   13/71   train_loss = 4.723\n",
      "Epoch   7 Batch   23/71   train_loss = 4.638\n",
      "Epoch   7 Batch   33/71   train_loss = 4.766\n",
      "Epoch   7 Batch   43/71   train_loss = 4.472\n",
      "Epoch   7 Batch   53/71   train_loss = 4.652\n",
      "Epoch   7 Batch   63/71   train_loss = 4.582\n",
      "Epoch   8 Batch    2/71   train_loss = 4.583\n",
      "Epoch   8 Batch   12/71   train_loss = 4.510\n",
      "Epoch   8 Batch   22/71   train_loss = 4.346\n",
      "Epoch   8 Batch   32/71   train_loss = 4.493\n",
      "Epoch   8 Batch   42/71   train_loss = 4.433\n",
      "Epoch   8 Batch   52/71   train_loss = 4.557\n",
      "Epoch   8 Batch   62/71   train_loss = 4.465\n",
      "Epoch   9 Batch    1/71   train_loss = 4.534\n",
      "Epoch   9 Batch   11/71   train_loss = 4.307\n",
      "Epoch   9 Batch   21/71   train_loss = 4.497\n",
      "Epoch   9 Batch   31/71   train_loss = 4.560\n",
      "Epoch   9 Batch   41/71   train_loss = 4.504\n",
      "Epoch   9 Batch   51/71   train_loss = 4.463\n",
      "Epoch   9 Batch   61/71   train_loss = 4.421\n",
      "Epoch  10 Batch    0/71   train_loss = 4.344\n",
      "Epoch  10 Batch   10/71   train_loss = 4.350\n",
      "Epoch  10 Batch   20/71   train_loss = 4.195\n",
      "Epoch  10 Batch   30/71   train_loss = 4.361\n",
      "Epoch  10 Batch   40/71   train_loss = 4.425\n",
      "Epoch  10 Batch   50/71   train_loss = 4.300\n",
      "Epoch  10 Batch   60/71   train_loss = 4.358\n",
      "Epoch  10 Batch   70/71   train_loss = 4.357\n",
      "Epoch  46 Batch    4/71   train_loss = 2.127\n",
      "Epoch  46 Batch   14/71   train_loss = 2.291\n",
      "Epoch  46 Batch   24/71   train_loss = 2.171\n",
      "Epoch  46 Batch   34/71   train_loss = 2.240\n",
      "Epoch  46 Batch   44/71   train_loss = 2.094\n",
      "Epoch  46 Batch   54/71   train_loss = 2.160\n",
      "Epoch  46 Batch   64/71   train_loss = 2.155\n",
      "Epoch  47 Batch    3/71   train_loss = 2.049\n",
      "Epoch  47 Batch   13/71   train_loss = 2.113\n",
      "Epoch  47 Batch   23/71   train_loss = 2.163\n",
      "Epoch  47 Batch   33/71   train_loss = 2.002\n",
      "Epoch  47 Batch   43/71   train_loss = 2.118\n",
      "Epoch  47 Batch   53/71   train_loss = 2.070\n",
      "Epoch  47 Batch   63/71   train_loss = 2.055\n",
      "Epoch  48 Batch    2/71   train_loss = 2.003\n",
      "Epoch  48 Batch   12/71   train_loss = 2.094\n",
      "Epoch  48 Batch   22/71   train_loss = 2.097\n",
      "Epoch  48 Batch   32/71   train_loss = 2.092\n",
      "Epoch  48 Batch   42/71   train_loss = 2.043\n",
      "Epoch  48 Batch   52/71   train_loss = 2.060\n",
      "Epoch  48 Batch   62/71   train_loss = 2.082\n",
      "Epoch  49 Batch    1/71   train_loss = 2.036\n",
      "Epoch  49 Batch   11/71   train_loss = 1.974\n",
      "Epoch  49 Batch   21/71   train_loss = 2.045\n",
      "Epoch  49 Batch   31/71   train_loss = 2.039\n",
      "Epoch  49 Batch   41/71   train_loss = 1.942\n",
      "Epoch  49 Batch   51/71   train_loss = 1.993\n",
      "Epoch  49 Batch   61/71   train_loss = 2.048\n",
      "Epoch  50 Batch    0/71   train_loss = 1.918\n",
      "Epoch  50 Batch   10/71   train_loss = 2.040\n",
      "Epoch  50 Batch   20/71   train_loss = 2.046\n",
      "Epoch  50 Batch   30/71   train_loss = 2.054\n",
      "Epoch  50 Batch   40/71   train_loss = 1.904\n",
      "Epoch  50 Batch   50/71   train_loss = 1.947\n",
      "Epoch  50 Batch   60/71   train_loss = 2.028\n",
      "Epoch  50 Batch   70/71   train_loss = 1.882\n",
      "Epoch  51 Batch    9/71   train_loss = 1.997\n",
      "Epoch  51 Batch   19/71   train_loss = 1.867\n",
      "Epoch  51 Batch   29/71   train_loss = 2.027\n",
      "Epoch  51 Batch   39/71   train_loss = 1.820\n",
      "Epoch  51 Batch   49/71   train_loss = 1.836\n",
      "Epoch  51 Batch   59/71   train_loss = 1.898\n",
      "Epoch  51 Batch   69/71   train_loss = 1.850\n",
      "Epoch  52 Batch    8/71   train_loss = 1.970\n",
      "Epoch  52 Batch   18/71   train_loss = 1.975\n",
      "Epoch  52 Batch   28/71   train_loss = 1.883\n",
      "Epoch  52 Batch   38/71   train_loss = 1.826\n",
      "Epoch  52 Batch   48/71   train_loss = 1.834\n",
      "Epoch  52 Batch   58/71   train_loss = 1.916\n",
      "Epoch  52 Batch   68/71   train_loss = 1.905\n",
      "Epoch  53 Batch    7/71   train_loss = 1.986\n",
      "Epoch  53 Batch   17/71   train_loss = 1.871\n",
      "Epoch  53 Batch   27/71   train_loss = 1.893\n",
      "Epoch  53 Batch   37/71   train_loss = 1.854\n",
      "Epoch  53 Batch   47/71   train_loss = 1.922\n",
      "Epoch  53 Batch   57/71   train_loss = 1.865\n",
      "Epoch  53 Batch   67/71   train_loss = 1.759\n",
      "Epoch  54 Batch    6/71   train_loss = 1.807\n",
      "Epoch  54 Batch   16/71   train_loss = 1.924\n",
      "Epoch  54 Batch   26/71   train_loss = 1.791\n",
      "Epoch  54 Batch   36/71   train_loss = 1.856\n",
      "Epoch  54 Batch   46/71   train_loss = 1.903\n",
      "Epoch  54 Batch   56/71   train_loss = 1.788\n",
      "Epoch  54 Batch   66/71   train_loss = 1.887\n",
      "Epoch  55 Batch    5/71   train_loss = 1.741\n",
      "Epoch  55 Batch   15/71   train_loss = 1.748\n",
      "Epoch  55 Batch   25/71   train_loss = 1.955\n",
      "Epoch  55 Batch   35/71   train_loss = 1.857\n",
      "Epoch  55 Batch   45/71   train_loss = 1.782\n",
      "Epoch  55 Batch   55/71   train_loss = 1.837\n",
      "Epoch  55 Batch   65/71   train_loss = 1.731\n",
      "Epoch  56 Batch    4/71   train_loss = 1.777\n",
      "Epoch  56 Batch   14/71   train_loss = 1.857\n",
      "Epoch  56 Batch   24/71   train_loss = 1.860\n",
      "Epoch  56 Batch   34/71   train_loss = 1.892\n",
      "Epoch  56 Batch   44/71   train_loss = 1.658\n",
      "Epoch  56 Batch   54/71   train_loss = 1.791\n",
      "Epoch  56 Batch   64/71   train_loss = 1.801\n",
      "Epoch  57 Batch    3/71   train_loss = 1.704\n",
      "Epoch  57 Batch   13/71   train_loss = 1.747\n",
      "Epoch  57 Batch   23/71   train_loss = 1.853\n",
      "Epoch  57 Batch   33/71   train_loss = 1.652\n",
      "Epoch  57 Batch   43/71   train_loss = 1.765\n",
      "Epoch  57 Batch   53/71   train_loss = 1.776\n",
      "Epoch  57 Batch   63/71   train_loss = 1.716\n",
      "Epoch  58 Batch    2/71   train_loss = 1.636\n",
      "Epoch  58 Batch   12/71   train_loss = 1.749\n",
      "Epoch  58 Batch   22/71   train_loss = 1.769\n",
      "Epoch  58 Batch   32/71   train_loss = 1.715\n",
      "Epoch  58 Batch   42/71   train_loss = 1.677\n",
      "Epoch  58 Batch   52/71   train_loss = 1.674\n",
      "Epoch  58 Batch   62/71   train_loss = 1.707\n",
      "Epoch  59 Batch    1/71   train_loss = 1.652\n",
      "Epoch  59 Batch   11/71   train_loss = 1.582\n",
      "Epoch  59 Batch   21/71   train_loss = 1.628\n",
      "Epoch  59 Batch   31/71   train_loss = 1.691\n",
      "Epoch  59 Batch   41/71   train_loss = 1.540\n",
      "Epoch  59 Batch   51/71   train_loss = 1.559\n",
      "Epoch  59 Batch   61/71   train_loss = 1.626\n",
      "Epoch  60 Batch    0/71   train_loss = 1.562\n",
      "Epoch  60 Batch   10/71   train_loss = 1.634\n",
      "Epoch  60 Batch   20/71   train_loss = 1.642\n",
      "Epoch  60 Batch   30/71   train_loss = 1.660\n",
      "Epoch  60 Batch   40/71   train_loss = 1.558\n",
      "Epoch  60 Batch   50/71   train_loss = 1.486\n",
      "Epoch  60 Batch   60/71   train_loss = 1.595\n",
      "Epoch  60 Batch   70/71   train_loss = 1.487\n",
      "Epoch  61 Batch    9/71   train_loss = 1.584\n",
      "Epoch  61 Batch   19/71   train_loss = 1.518\n",
      "Epoch  61 Batch   29/71   train_loss = 1.648\n",
      "Epoch  61 Batch   39/71   train_loss = 1.493\n",
      "Epoch  61 Batch   49/71   train_loss = 1.447\n",
      "Epoch  61 Batch   59/71   train_loss = 1.497\n",
      "Epoch  61 Batch   69/71   train_loss = 1.466\n",
      "Epoch  62 Batch    8/71   train_loss = 1.603\n",
      "Epoch  62 Batch   18/71   train_loss = 1.568\n",
      "Epoch  62 Batch   28/71   train_loss = 1.477\n",
      "Epoch  62 Batch   38/71   train_loss = 1.517\n",
      "Epoch  62 Batch   48/71   train_loss = 1.438\n",
      "Epoch  62 Batch   58/71   train_loss = 1.496\n",
      "Epoch  62 Batch   68/71   train_loss = 1.472\n",
      "Epoch  63 Batch    7/71   train_loss = 1.550\n",
      "Epoch  63 Batch   17/71   train_loss = 1.455\n",
      "Epoch  63 Batch   27/71   train_loss = 1.450\n",
      "Epoch  63 Batch   37/71   train_loss = 1.477\n",
      "Epoch  63 Batch   47/71   train_loss = 1.509\n",
      "Epoch  63 Batch   57/71   train_loss = 1.463\n",
      "Epoch  63 Batch   67/71   train_loss = 1.339\n",
      "Epoch  64 Batch    6/71   train_loss = 1.384\n",
      "Epoch  64 Batch   16/71   train_loss = 1.468\n",
      "Epoch  64 Batch   26/71   train_loss = 1.406\n",
      "Epoch  64 Batch   36/71   train_loss = 1.438\n",
      "Epoch  64 Batch   46/71   train_loss = 1.453\n",
      "Epoch  64 Batch   56/71   train_loss = 1.346\n",
      "Epoch  64 Batch   66/71   train_loss = 1.456\n",
      "Epoch  65 Batch    5/71   train_loss = 1.360\n",
      "Epoch  65 Batch   15/71   train_loss = 1.313\n",
      "Epoch  65 Batch   25/71   train_loss = 1.547\n",
      "Epoch  65 Batch   35/71   train_loss = 1.424\n",
      "Epoch  65 Batch   45/71   train_loss = 1.327\n",
      "Epoch  65 Batch   55/71   train_loss = 1.431\n",
      "Epoch  65 Batch   65/71   train_loss = 1.280\n",
      "Epoch  66 Batch    4/71   train_loss = 1.347\n",
      "Epoch  66 Batch   14/71   train_loss = 1.432\n",
      "Epoch  66 Batch   24/71   train_loss = 1.424\n",
      "Epoch  66 Batch   34/71   train_loss = 1.414\n",
      "Epoch  66 Batch   44/71   train_loss = 1.247\n",
      "Epoch  66 Batch   54/71   train_loss = 1.358\n",
      "Epoch  66 Batch   64/71   train_loss = 1.363\n",
      "Epoch  67 Batch    3/71   train_loss = 1.286\n",
      "Epoch  67 Batch   23/71   train_loss = 1.474\n",
      "Epoch  67 Batch   33/71   train_loss = 1.247\n",
      "Epoch  67 Batch   43/71   train_loss = 1.390\n",
      "Epoch  67 Batch   53/71   train_loss = 1.334\n",
      "Epoch  67 Batch   63/71   train_loss = 1.243\n",
      "Epoch  68 Batch    2/71   train_loss = 1.247\n",
      "Epoch  68 Batch   12/71   train_loss = 1.337\n",
      "Epoch  68 Batch   22/71   train_loss = 1.390\n",
      "Epoch  68 Batch   32/71   train_loss = 1.318\n",
      "Epoch  68 Batch   42/71   train_loss = 1.315\n",
      "Epoch  68 Batch   52/71   train_loss = 1.254\n",
      "Epoch  68 Batch   62/71   train_loss = 1.363\n",
      "Epoch  69 Batch    1/71   train_loss = 1.290\n",
      "Epoch  69 Batch   11/71   train_loss = 1.208\n",
      "Epoch  69 Batch   21/71   train_loss = 1.334\n",
      "Epoch  69 Batch   31/71   train_loss = 1.371\n",
      "Epoch  69 Batch   41/71   train_loss = 1.213\n",
      "Epoch  69 Batch   51/71   train_loss = 1.196\n",
      "Epoch  69 Batch   61/71   train_loss = 1.274\n",
      "Epoch  70 Batch    0/71   train_loss = 1.176\n",
      "Epoch  70 Batch   10/71   train_loss = 1.293\n",
      "Epoch  70 Batch   20/71   train_loss = 1.336\n",
      "Epoch  70 Batch   30/71   train_loss = 1.323\n",
      "Epoch  70 Batch   40/71   train_loss = 1.213\n",
      "Epoch  70 Batch   50/71   train_loss = 1.128\n",
      "Epoch  70 Batch   60/71   train_loss = 1.304\n",
      "Epoch  70 Batch   70/71   train_loss = 1.128\n",
      "Epoch  71 Batch    9/71   train_loss = 1.277\n",
      "Epoch  71 Batch   19/71   train_loss = 1.172\n",
      "Epoch  71 Batch   29/71   train_loss = 1.328\n",
      "Epoch  71 Batch   39/71   train_loss = 1.190\n",
      "Epoch  71 Batch   49/71   train_loss = 1.128\n",
      "Epoch  71 Batch   59/71   train_loss = 1.184\n",
      "Epoch  71 Batch   69/71   train_loss = 1.126\n",
      "Epoch  72 Batch    8/71   train_loss = 1.250\n",
      "Epoch  72 Batch   18/71   train_loss = 1.210\n",
      "Epoch  72 Batch   28/71   train_loss = 1.208\n",
      "Epoch  72 Batch   38/71   train_loss = 1.223\n",
      "Epoch  72 Batch   48/71   train_loss = 1.125\n",
      "Epoch  72 Batch   58/71   train_loss = 1.180\n",
      "Epoch  72 Batch   68/71   train_loss = 1.122\n",
      "Epoch  73 Batch    7/71   train_loss = 1.192\n",
      "Epoch  73 Batch   17/71   train_loss = 1.125\n",
      "Epoch  73 Batch   27/71   train_loss = 1.186\n",
      "Epoch  73 Batch   37/71   train_loss = 1.174\n",
      "Epoch  73 Batch   47/71   train_loss = 1.196\n",
      "Epoch  73 Batch   57/71   train_loss = 1.158\n",
      "Epoch  73 Batch   67/71   train_loss = 1.045\n",
      "Epoch  74 Batch    6/71   train_loss = 1.066\n",
      "Epoch  74 Batch   16/71   train_loss = 1.144\n",
      "Epoch  74 Batch   26/71   train_loss = 1.089\n",
      "Epoch  74 Batch   36/71   train_loss = 1.144\n",
      "Epoch  74 Batch   46/71   train_loss = 1.157\n",
      "Epoch  74 Batch   56/71   train_loss = 1.063\n",
      "Epoch  74 Batch   66/71   train_loss = 1.148\n",
      "Epoch  75 Batch    5/71   train_loss = 1.053\n",
      "Epoch  75 Batch   15/71   train_loss = 1.035\n",
      "Epoch  75 Batch   25/71   train_loss = 1.179\n",
      "Epoch  75 Batch   35/71   train_loss = 1.128\n",
      "Epoch  75 Batch   45/71   train_loss = 1.036\n",
      "Epoch  75 Batch   55/71   train_loss = 1.128\n",
      "Epoch  75 Batch   65/71   train_loss = 1.034\n",
      "Epoch  76 Batch    4/71   train_loss = 1.025\n",
      "Epoch  76 Batch   14/71   train_loss = 1.138\n",
      "Epoch  76 Batch   24/71   train_loss = 1.075\n",
      "Epoch  76 Batch   34/71   train_loss = 1.142\n",
      "Epoch  76 Batch   44/71   train_loss = 0.983\n",
      "Epoch  76 Batch   54/71   train_loss = 1.052\n",
      "Epoch  76 Batch   64/71   train_loss = 1.053\n",
      "Epoch  77 Batch    3/71   train_loss = 0.992\n",
      "Epoch  77 Batch   13/71   train_loss = 1.005\n",
      "Epoch  77 Batch   23/71   train_loss = 1.137\n",
      "Epoch  77 Batch   33/71   train_loss = 0.985\n",
      "Epoch  77 Batch   43/71   train_loss = 1.083\n",
      "Epoch  77 Batch   53/71   train_loss = 1.042\n",
      "Epoch  77 Batch   63/71   train_loss = 0.966\n",
      "Epoch  78 Batch    2/71   train_loss = 1.019\n",
      "Epoch  78 Batch   12/71   train_loss = 1.057\n",
      "Epoch  78 Batch   22/71   train_loss = 1.114\n",
      "Epoch  78 Batch   32/71   train_loss = 1.111\n",
      "Epoch  78 Batch   42/71   train_loss = 1.049\n",
      "Epoch  78 Batch   52/71   train_loss = 0.981\n",
      "Epoch  78 Batch   62/71   train_loss = 1.053\n",
      "Epoch  79 Batch    1/71   train_loss = 1.003\n",
      "Epoch  79 Batch   11/71   train_loss = 0.953\n",
      "Epoch  79 Batch   21/71   train_loss = 1.009\n",
      "Epoch  79 Batch   31/71   train_loss = 1.062\n",
      "Epoch  79 Batch   41/71   train_loss = 0.944\n",
      "Epoch  79 Batch   51/71   train_loss = 0.941\n",
      "Epoch  79 Batch   61/71   train_loss = 0.961\n",
      "Epoch  80 Batch    0/71   train_loss = 0.944\n",
      "Epoch  80 Batch   10/71   train_loss = 0.970\n",
      "Epoch  80 Batch   20/71   train_loss = 1.046\n",
      "Epoch  80 Batch   30/71   train_loss = 1.040\n",
      "Epoch  80 Batch   40/71   train_loss = 0.971\n",
      "Epoch  80 Batch   50/71   train_loss = 0.900\n",
      "Epoch  80 Batch   60/71   train_loss = 0.984\n",
      "Epoch  80 Batch   70/71   train_loss = 0.883\n",
      "Epoch  81 Batch    9/71   train_loss = 0.994\n",
      "Epoch  81 Batch   19/71   train_loss = 0.947\n",
      "Epoch  81 Batch   29/71   train_loss = 1.022\n",
      "Epoch  81 Batch   39/71   train_loss = 0.941\n",
      "Epoch  81 Batch   49/71   train_loss = 0.907\n",
      "Epoch  81 Batch   59/71   train_loss = 0.940\n",
      "Epoch  81 Batch   69/71   train_loss = 0.887\n",
      "Epoch  82 Batch    8/71   train_loss = 0.957\n",
      "Epoch  82 Batch   18/71   train_loss = 0.960\n",
      "Epoch  82 Batch   28/71   train_loss = 0.946\n",
      "Epoch  82 Batch   38/71   train_loss = 0.962\n",
      "Epoch  82 Batch   48/71   train_loss = 0.908\n",
      "Epoch  82 Batch   58/71   train_loss = 0.966\n",
      "Epoch  82 Batch   68/71   train_loss = 0.863\n",
      "Epoch  83 Batch    7/71   train_loss = 0.948\n",
      "Epoch  83 Batch   17/71   train_loss = 0.863\n",
      "Epoch  83 Batch   27/71   train_loss = 0.937\n",
      "Epoch  83 Batch   37/71   train_loss = 0.943\n",
      "Epoch  83 Batch   47/71   train_loss = 0.936\n",
      "Epoch  83 Batch   57/71   train_loss = 0.915\n",
      "Epoch  83 Batch   67/71   train_loss = 0.827\n",
      "Epoch  84 Batch    6/71   train_loss = 0.806\n",
      "Epoch  84 Batch   16/71   train_loss = 0.865\n",
      "Epoch  84 Batch   26/71   train_loss = 0.848\n",
      "Epoch  84 Batch   36/71   train_loss = 0.926\n",
      "Epoch  84 Batch   46/71   train_loss = 0.899\n",
      "Epoch  84 Batch   56/71   train_loss = 0.841\n",
      "Epoch  84 Batch   66/71   train_loss = 0.903\n",
      "Epoch  85 Batch    5/71   train_loss = 0.824\n",
      "Epoch  85 Batch   15/71   train_loss = 0.773\n",
      "Epoch  85 Batch   25/71   train_loss = 0.915\n",
      "Epoch  85 Batch   35/71   train_loss = 0.901\n",
      "Epoch  85 Batch   45/71   train_loss = 0.801\n",
      "Epoch  85 Batch   55/71   train_loss = 0.854\n",
      "Epoch  85 Batch   65/71   train_loss = 0.770\n",
      "Epoch  86 Batch    4/71   train_loss = 0.786\n",
      "Epoch  86 Batch   14/71   train_loss = 0.849\n",
      "Epoch  86 Batch   24/71   train_loss = 0.799\n",
      "Epoch  86 Batch   34/71   train_loss = 0.879\n",
      "Epoch  86 Batch   44/71   train_loss = 0.745\n",
      "Epoch  86 Batch   54/71   train_loss = 0.811\n",
      "Epoch  86 Batch   64/71   train_loss = 0.819\n",
      "Epoch  87 Batch    3/71   train_loss = 0.733\n",
      "Epoch  87 Batch   13/71   train_loss = 0.760\n",
      "Epoch  87 Batch   23/71   train_loss = 0.830\n",
      "Epoch  87 Batch   33/71   train_loss = 0.752\n",
      "Epoch  87 Batch   43/71   train_loss = 0.874\n",
      "Epoch  87 Batch   53/71   train_loss = 0.793\n",
      "Epoch  87 Batch   63/71   train_loss = 0.726\n",
      "Epoch  88 Batch    2/71   train_loss = 0.763\n",
      "Epoch  88 Batch   12/71   train_loss = 0.811\n",
      "Epoch  88 Batch   22/71   train_loss = 0.847\n",
      "Epoch  88 Batch   32/71   train_loss = 0.809\n",
      "Epoch  88 Batch   42/71   train_loss = 0.821\n",
      "Epoch  88 Batch   52/71   train_loss = 0.746\n",
      "Epoch  88 Batch   62/71   train_loss = 0.814\n",
      "Epoch  89 Batch    1/71   train_loss = 0.786\n",
      "Epoch  89 Batch   11/71   train_loss = 0.704\n",
      "Epoch  89 Batch   21/71   train_loss = 0.786\n",
      "Epoch  89 Batch   31/71   train_loss = 0.757\n",
      "Epoch  89 Batch   41/71   train_loss = 0.737\n",
      "Epoch  89 Batch   51/71   train_loss = 0.722\n",
      "Epoch  89 Batch   61/71   train_loss = 0.780\n",
      "Epoch  90 Batch    0/71   train_loss = 0.748\n",
      "Epoch  90 Batch   10/71   train_loss = 0.697\n",
      "Epoch  90 Batch   20/71   train_loss = 0.796\n",
      "Epoch  90 Batch   30/71   train_loss = 0.783\n",
      "Epoch  90 Batch   40/71   train_loss = 0.725\n",
      "Epoch  90 Batch   50/71   train_loss = 0.657\n",
      "Epoch  90 Batch   60/71   train_loss = 0.794\n",
      "Epoch  90 Batch   70/71   train_loss = 0.704\n",
      "Epoch  91 Batch    9/71   train_loss = 0.739\n",
      "Epoch  91 Batch   19/71   train_loss = 0.725\n",
      "Epoch  91 Batch   29/71   train_loss = 0.791\n",
      "Epoch  91 Batch   39/71   train_loss = 0.693\n",
      "Epoch  91 Batch   49/71   train_loss = 0.670\n",
      "Epoch  91 Batch   59/71   train_loss = 0.731\n",
      "Epoch  91 Batch   69/71   train_loss = 0.692\n",
      "Epoch  92 Batch    8/71   train_loss = 0.708\n",
      "Epoch  92 Batch   18/71   train_loss = 0.706\n",
      "Epoch  92 Batch   28/71   train_loss = 0.736\n",
      "Epoch  92 Batch   38/71   train_loss = 0.742\n",
      "Epoch  92 Batch   48/71   train_loss = 0.665\n",
      "Epoch  92 Batch   58/71   train_loss = 0.716\n",
      "Epoch  92 Batch   68/71   train_loss = 0.677\n",
      "Epoch  93 Batch    7/71   train_loss = 0.755\n",
      "Epoch  93 Batch   17/71   train_loss = 0.641\n",
      "Epoch  93 Batch   27/71   train_loss = 0.707\n",
      "Epoch  93 Batch   37/71   train_loss = 0.738\n",
      "Epoch  93 Batch   47/71   train_loss = 0.745\n",
      "Epoch  93 Batch   57/71   train_loss = 0.672\n",
      "Epoch  93 Batch   67/71   train_loss = 0.643\n",
      "Epoch  94 Batch    6/71   train_loss = 0.641\n",
      "Epoch  94 Batch   16/71   train_loss = 0.632\n",
      "Epoch  94 Batch   26/71   train_loss = 0.641\n",
      "Epoch  94 Batch   36/71   train_loss = 0.674\n",
      "Epoch  94 Batch   46/71   train_loss = 0.697\n",
      "Epoch  94 Batch   56/71   train_loss = 0.635\n",
      "Epoch  94 Batch   66/71   train_loss = 0.693\n",
      "Epoch  95 Batch    5/71   train_loss = 0.656\n",
      "Epoch  95 Batch   15/71   train_loss = 0.595\n",
      "Epoch  95 Batch   25/71   train_loss = 0.698\n",
      "Epoch  95 Batch   35/71   train_loss = 0.684\n",
      "Epoch  95 Batch   45/71   train_loss = 0.665\n",
      "Epoch  95 Batch   55/71   train_loss = 0.690\n",
      "Epoch  95 Batch   65/71   train_loss = 0.623\n",
      "Epoch  96 Batch    4/71   train_loss = 0.585\n",
      "Epoch  96 Batch   14/71   train_loss = 0.656\n",
      "Epoch  96 Batch   24/71   train_loss = 0.619\n",
      "Epoch  96 Batch   34/71   train_loss = 0.660\n",
      "Epoch  96 Batch   44/71   train_loss = 0.607\n",
      "Epoch  96 Batch   54/71   train_loss = 0.605\n",
      "Epoch  96 Batch   64/71   train_loss = 0.629\n",
      "Epoch  97 Batch    3/71   train_loss = 0.579\n",
      "Epoch  97 Batch   13/71   train_loss = 0.564\n",
      "Epoch  97 Batch   23/71   train_loss = 0.652\n",
      "Epoch  97 Batch   33/71   train_loss = 0.570\n",
      "Epoch  97 Batch   43/71   train_loss = 0.672\n",
      "Epoch  97 Batch   53/71   train_loss = 0.595\n",
      "Epoch  97 Batch   63/71   train_loss = 0.585\n"
     ]
    }
   ],
   "source": [
    "\"\"\"\n",
    "DON'T MODIFY ANYTHING IN THIS CELL\n",
    "\"\"\"\n",
    "batches = get_batches(int_text, batch_size, seq_length)\n",
    "\n",
    "with tf.Session(graph=train_graph) as sess:\n",
    "    sess.run(tf.global_variables_initializer())\n",
    "\n",
    "    for epoch_i in range(num_epochs):\n",
    "        state = sess.run(initial_state, {input_text: batches[0][0]})\n",
    "\n",
    "        for batch_i, (x, y) in enumerate(batches):\n",
    "            feed = {\n",
    "                input_text: x,\n",
    "                targets: y,\n",
    "                initial_state: state,\n",
    "                lr: learning_rate}\n",
    "            train_loss, state, _ = sess.run([cost, final_state, train_op], feed)\n",
    "            if (epoch_i * len(batches) + batch_i) % show_every_n_batches == 0:\n",
    "                print('Epoch {:>3} Batch {:>4}/{}   train_loss = {:.3f}'.format(\n",
    "\n",
    "            # Show every <show_every_n_batches> batches\n",
    "                    epoch_i,\n",
    "                    batch_i,\n",
    "                    len(batches),\n",
    "                    train_loss))\n",
    "\n",
    "    # Save Model\n",
    "    saver = tf.train.Saver()\n",
    "    saver.save(sess, save_dir)\n",
    "    print('Model Trained and Saved')"
   ]
  },
  {
   "cell_type": "markdown",
   "metadata": {
    "deletable": true,
    "editable": true
   },
   "source": [
    "# \n",
    "\n",
    "\n",
    "\n",
    "## Save Parameters\n",
    "Save `seq_length` and `save_dir` for generating a new TV script."
   ]
  },
  {
   "cell_type": "code",
   "execution_count": 28,
   "metadata": {
    "collapsed": false,
    "deletable": true,
    "editable": true
   },
   "outputs": [],
   "source": [
    "\"\"\"\n",
    "DON'T MODIFY ANYTHING IN THIS CELL\n",
    "\"\"\"\n",
    "# Save parameters for checkpoint\n",
    "helper.save_params((seq_length, save_dir))"
   ]
  },
  {
   "cell_type": "markdown",
   "metadata": {
    "deletable": true,
    "editable": true
   },
   "source": [
    "# Checkpoint"
   ]
  },
  {
   "cell_type": "code",
   "execution_count": 29,
   "metadata": {
    "collapsed": false,
    "deletable": true,
    "editable": true
   },
   "outputs": [],
   "source": [
    "\"\"\"\n",
    "DON'T MODIFY ANYTHING IN THIS CELL\n",
    "\"\"\"\n",
    "import tensorflow as tf\n",
    "import numpy as np\n",
    "import helper\n",
    "import problem_unittests as tests\n",
    "\n",
    "_, vocab_to_int, int_to_vocab, token_dict = helper.load_preprocess()\n",
    "seq_length, load_dir = helper.load_params()"
   ]
  },
  {
   "cell_type": "markdown",
   "metadata": {
    "deletable": true,
    "editable": true
   },
   "source": [
    "## Implement Generate Functions\n",
    "### Get Tensors\n",
    "Get tensors from `loaded_graph` using the function [`get_tensor_by_name()`](https://www.tensorflow.org/api_docs/python/tf/Graph#get_tensor_by_name).  Get the tensors using the following names:\n",
    "- \"input:0\"\n",
    "- \"initial_state:0\"\n",
    "- \"final_state:0\"\n",
    "- \"probs:0\"\n",
    "\n",
    "Return the tensors in the following tuple `(InputTensor, InitialStateTensor, FinalStateTensor, ProbsTensor)` "
   ]
  },
  {
   "cell_type": "code",
   "execution_count": 30,
   "metadata": {
    "collapsed": false,
    "deletable": true,
    "editable": true
   },
   "outputs": [
    {
     "name": "stdout",
     "output_type": "stream",
     "text": [
      "Tests Passed\n"
     ]
    }
   ],
   "source": [
    "def get_tensors(loaded_graph):\n",
    "    \"\"\"\n",
    "    Get input, initial state, final state, and probabilities tensor from <loaded_graph>\n",
    "    :param loaded_graph: TensorFlow graph loaded from file\n",
    "    :return: Tuple (InputTensor, InitialStateTensor, FinalStateTensor, ProbsTensor)\n",
    "    \"\"\"\n",
    "    # TODO: Implement Function\n",
    "    InputTensor= loaded_graph.get_tensor_by_name(\"input:0\")\n",
    "    InitialStateTensor= loaded_graph.get_tensor_by_name(\"initial_state:0\")\n",
    "    FinalStateTensor = loaded_graph.get_tensor_by_name(\"final_state:0\")\n",
    "    ProbsTensor= loaded_graph.get_tensor_by_name(\"probs:0\")\n",
    "    return InputTensor, InitialStateTensor, FinalStateTensor, ProbsTensor\n",
    "\n",
    "\n",
    "\"\"\"\n",
    "DON'T MODIFY ANYTHING IN THIS CELL THAT IS BELOW THIS LINE\n",
    "\"\"\"\n",
    "tests.test_get_tensors(get_tensors)"
   ]
  },
  {
   "cell_type": "markdown",
   "metadata": {
    "deletable": true,
    "editable": true
   },
   "source": [
    "### Choose Word\n",
    "Implement the `pick_word()` function to select the next word using `probabilities`."
   ]
  },
  {
   "cell_type": "code",
   "execution_count": 31,
   "metadata": {
    "collapsed": false,
    "deletable": true,
    "editable": true
   },
   "outputs": [
    {
     "name": "stdout",
     "output_type": "stream",
     "text": [
      "Tests Passed\n"
     ]
    }
   ],
   "source": [
    "def pick_word(probabilities, int_to_vocab):\n",
    "    \"\"\"\n",
    "    Pick the next word in the generated text\n",
    "    :param probabilities: Probabilites of the next word\n",
    "    :param int_to_vocab: Dictionary of word ids as the keys and words as the values\n",
    "    :return: String of the predicted word\n",
    "    \"\"\"\n",
    "    # TODO: Implement Function\n",
    "    p = np.squeeze(probabilities)\n",
    "    p[np.argsort(p)[:-10]] = 0\n",
    "    p = p / np.sum(p)\n",
    "    c = np.random.choice(len(int_to_vocab), 1, p=p)[0]\n",
    "    return int_to_vocab[c]\n",
    "\n",
    "\n",
    "\"\"\"\n",
    "DON'T MODIFY ANYTHING IN THIS CELL THAT IS BELOW THIS LINE\n",
    "\"\"\"\n",
    "tests.test_pick_word(pick_word)"
   ]
  },
  {
   "cell_type": "markdown",
   "metadata": {
    "deletable": true,
    "editable": true
   },
   "source": [
    "## Generate TV Script\n",
    "This will generate the TV script for you.  Set `gen_length` to the length of TV script you want to generate."
   ]
  },
  {
   "cell_type": "code",
   "execution_count": 33,
   "metadata": {
    "collapsed": false,
    "deletable": true,
    "editable": true
   },
   "outputs": [
    {
     "name": "stdout",
     "output_type": "stream",
     "text": [
      "moe_szyslak:(pleased) really?\n",
      "moe's_thoughts: no, no.\n",
      "moe_szyslak: aw, no. i'm supposed to build.. at the super bowl?\n",
      "coach: dang! that was my car could only much to be grienke.\n",
      "moe_szyslak:(to dog) hey, fat tony!\n",
      "moe_szyslak:(excited over) you don't know any of the original alfalfa is sabermetrics. it is it.\n",
      "homer_simpson: let's do it!(hangs up) not pretty much. you gave me a place right to my bar,(points to door a drink that says) canyonero. does this scene is tom tell you made a little man i'd make a punch eye in his face and a wife a huge settlement...\n",
      "apu_nahasapeemapetilon: yeah, okay!\n",
      "\n",
      "\n",
      "homer_simpson:(to comic little desperate) a little more hemoglobin and the tv's japanese could be too much to the point is, a guy like to the crazy out of the same species?\n",
      "moe_szyslak:(serious) oh, it's soon. it is really hard for me to\n"
     ]
    }
   ],
   "source": [
    "gen_length = 200\n",
    "# homer_simpson, moe_szyslak, or Barney_Gumble\n",
    "prime_word = 'moe_szyslak'\n",
    "\n",
    "\"\"\"\n",
    "DON'T MODIFY ANYTHING IN THIS CELL THAT IS BELOW THIS LINE\n",
    "\"\"\"\n",
    "loaded_graph = tf.Graph()\n",
    "with tf.Session(graph=loaded_graph) as sess:\n",
    "    # Load saved model\n",
    "    loader = tf.train.import_meta_graph(load_dir + '.meta')\n",
    "    loader.restore(sess, load_dir)\n",
    "\n",
    "    # Get Tensors from loaded model\n",
    "    input_text, initial_state, final_state, probs = get_tensors(loaded_graph)\n",
    "\n",
    "    # Sentences generation setup\n",
    "    gen_sentences = [prime_word + ':']\n",
    "    prev_state = sess.run(initial_state, {input_text: np.array([[1]])})\n",
    "\n",
    "    # Generate sentences\n",
    "    for n in range(gen_length):\n",
    "        # Dynamic Input\n",
    "        dyn_input = [[vocab_to_int[word] for word in gen_sentences[-seq_length:]]]\n",
    "        dyn_seq_length = len(dyn_input[0])\n",
    "\n",
    "        # Get Prediction\n",
    "        probabilities, prev_state = sess.run(\n",
    "            [probs, final_state],\n",
    "            {input_text: dyn_input, initial_state: prev_state})\n",
    "        \n",
    "        pred_word = pick_word(probabilities[dyn_seq_length-1], int_to_vocab)\n",
    "\n",
    "        gen_sentences.append(pred_word)\n",
    "    \n",
    "    # Remove tokens\n",
    "    tv_script = ' '.join(gen_sentences)\n",
    "    for key, token in token_dict.items():\n",
    "        ending = ' ' if key in ['\\n', '(', '\"'] else ''\n",
    "        tv_script = tv_script.replace(' ' + token.lower(), key)\n",
    "    tv_script = tv_script.replace('\\n ', '\\n')\n",
    "    tv_script = tv_script.replace('( ', '(')\n",
    "        \n",
    "    print(tv_script)"
   ]
  },
  {
   "cell_type": "markdown",
   "metadata": {
    "deletable": true,
    "editable": true
   },
   "source": [
    "# The TV Script is Nonsensical\n",
    "It's ok if the TV script doesn't make any sense.  We trained on less than a megabyte of text.  In order to get good results, you'll have to use a smaller vocabulary or get more data.  Luckly there's more data!  As we mentioned in the begging of this project, this is a subset of [another dataset](https://www.kaggle.com/wcukierski/the-simpsons-by-the-data).  We didn't have you train on all the data, because that would take too long.  However, you are free to train your neural network on all the data.  After you complete the project, of course.\n",
    "# Submitting This Project\n",
    "When submitting this project, make sure to run all the cells before saving the notebook. Save the notebook file as \"dlnd_tv_script_generation.ipynb\" and save it as a HTML file under \"File\" -> \"Download as\". Include the \"helper.py\" and \"problem_unittests.py\" files in your submission."
   ]
  },
  {
   "cell_type": "code",
   "execution_count": null,
   "metadata": {
    "collapsed": true,
    "deletable": true,
    "editable": true
   },
   "outputs": [],
   "source": []
  }
 ],
 "metadata": {
  "kernelspec": {
   "display_name": "Python 3",
   "language": "python",
   "name": "python3"
  },
  "language_info": {
   "codemirror_mode": {
    "name": "ipython",
    "version": 3
   },
   "file_extension": ".py",
   "mimetype": "text/x-python",
   "name": "python",
   "nbconvert_exporter": "python",
   "pygments_lexer": "ipython3",
   "version": "3.5.2"
  },
  "widgets": {
   "state": {},
   "version": "1.1.2"
  }
 },
 "nbformat": 4,
 "nbformat_minor": 0
}
